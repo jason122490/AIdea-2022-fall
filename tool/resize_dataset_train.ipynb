{
 "cells": [
  {
   "cell_type": "code",
   "execution_count": null,
   "metadata": {},
   "outputs": [],
   "source": [
    "import os\n",
    "from PIL import Image\n",
    "import albumentations as A\n",
    "import numpy as np\n",
    "from multiprocessing import Pool\n",
    "\n",
    "orginal_dir = '/media/jason/A002/AIdea/dataset/train' #original image dir\n",
    "resized_dir = '../dataset/train' #resize image save dir\n",
    "\n",
    "def crop_resize(file):\n",
    "    img = Image.open('{}/{}'.format(orginal_dir, file))\n",
    "    img = np.array(img)\n",
    "    \n",
    "    img = A.augmentations.geometric.resize.SmallestMaxSize(1280)(image=img)['image']\n",
    "\n",
    "    img = Image.fromarray(img)\n",
    "    img.save('{}/{}'.format(resized_dir, file))\n",
    "\n",
    "folder_list = os.listdir(orginal_dir)\n",
    "file_list = []\n",
    "\n",
    "for folder in folder_list:\n",
    "    os.makedirs('{}/{}'.format(resized_dir, folder))\n",
    "    file_list += [f'{folder}/{file}' for file in os.listdir('{}/{}'.format(orginal_dir, folder))]\n",
    "\n",
    "pool = Pool(8)\n",
    "pool.map(crop_resize, file_list, chunksize=100)"
   ]
  }
 ],
 "metadata": {
  "kernelspec": {
   "display_name": "Python 3 (ipykernel)",
   "language": "python",
   "name": "python3"
  },
  "language_info": {
   "codemirror_mode": {
    "name": "ipython",
    "version": 3
   },
   "file_extension": ".py",
   "mimetype": "text/x-python",
   "name": "python",
   "nbconvert_exporter": "python",
   "pygments_lexer": "ipython3",
   "version": "3.9.13"
  }
 },
 "nbformat": 4,
 "nbformat_minor": 4
}
