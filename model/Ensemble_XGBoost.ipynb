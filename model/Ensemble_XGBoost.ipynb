{
 "cells": [
  {
   "cell_type": "code",
   "execution_count": null,
   "metadata": {},
   "outputs": [],
   "source": [
    "import os\n",
    "import pandas as pd\n",
    "import pickle"
   ]
  },
  {
   "cell_type": "code",
   "execution_count": null,
   "metadata": {},
   "outputs": [],
   "source": [
    "folderlist = ['asparagus', 'bambooshoots', 'betel', 'broccoli', 'cauliflower', 'chinesecabbage', 'chinesechives', 'custardapple', 'grape', 'greenhouse', 'greenonion', 'kale', 'lemon', 'lettuce', 'litchi', 'longan', 'loofah', 'mango', 'onion', 'others', 'papaya', 'passionfruit', 'pear', 'pennisetum', 'redbeans', 'roseapple', 'sesbania', 'soybeans', 'sunhemp', 'sweetpotato', 'taro', 'tea', 'waterbamboo']\n",
    "class_list = sorted(folderlist)"
   ]
  },
  {
   "cell_type": "code",
   "execution_count": null,
   "metadata": {},
   "outputs": [],
   "source": [
    "with open(\"train_emb_swinv2_base\", \"rb\") as fp:\n",
    "    train_emb_list_swinv2, train_label_list_swinv2, valid_emb_list_swinv2, valid_label_list_swinv2 = pickle.load(fp)\n",
    "    \n",
    "with open(\"train_emb_convnext_base\", \"rb\") as fp:\n",
    "    train_emb_list_convnext_base, train_label_list_convnext_base, valid_emb_list_convnext_base, valid_label_list_convnext_base = pickle.load(fp)\n",
    "    \n",
    "with open(\"train_emb_convnext_large\", \"rb\") as fp:\n",
    "    train_emb_list_convnext_large, train_label_list_convnext_large, valid_emb_list_convnext_large, valid_label_list_convnext_large = pickle.load(fp)\n",
    "    \n",
    "with open(\"train_emb_effnetv2_large\", \"rb\") as fp:\n",
    "    train_emb_list_effnetv2, train_label_list_effnetv2, valid_emb_list_effnetv2, valid_label_list_effnetv2 = pickle.load(fp)"
   ]
  },
  {
   "cell_type": "code",
   "execution_count": null,
   "metadata": {},
   "outputs": [],
   "source": [
    "train_emb_list = np.hstack((train_emb_list_swinv2, train_emb_list_convnext_base, train_emb_list_convnext_large, train_emb_list_effnetv2))\n",
    "valid_emb_list = np.hstack((valid_emb_list_swinv2, valid_emb_list_convnext_base, valid_emb_list_convnext_large, valid_emb_list_effnetv2))"
   ]
  },
  {
   "cell_type": "code",
   "execution_count": null,
   "metadata": {},
   "outputs": [],
   "source": [
    "train_label_list = train_label_list_convnext_large\n",
    "valid_label_list = valid_label_list_convnext_large"
   ]
  },
  {
   "cell_type": "code",
   "execution_count": null,
   "metadata": {},
   "outputs": [],
   "source": [
    "with open(\"test_emb_swinv2_base\", \"rb\") as fp:\n",
    "    test_emb_list_swinv2, test_file_list_swinv2 = pickle.load(fp)\n",
    "    \n",
    "with open(\"test_emb_convnext_base\", \"rb\") as fp:\n",
    "    test_emb_list_convnext_base, test_file_list_convnext_base = pickle.load(fp)\n",
    "    \n",
    "with open(\"test_emb_convnext_large\", \"rb\") as fp:\n",
    "    test_emb_list_convnext_large, test_file_list_convnext_large = pickle.load(fp)\n",
    "    \n",
    "with open(\"test_emb_effnetv2_base\", \"rb\") as fp:\n",
    "    test_emb_list_effnetv2, test_file_list_effnetv2 = pickle.load(fp)"
   ]
  },
  {
   "cell_type": "code",
   "execution_count": null,
   "metadata": {},
   "outputs": [],
   "source": [
    "test_emb_list = np.hstack((test_emb_list_swinv2, test_emb_list_convnext_base, test_emb_list_convnext_large, test_emb_list_effnetv2))"
   ]
  },
  {
   "cell_type": "code",
   "execution_count": null,
   "metadata": {},
   "outputs": [],
   "source": [
    "test_file_list = test_file_list_convnext_large"
   ]
  },
  {
   "cell_type": "markdown",
   "metadata": {},
   "source": [
    "# XGBoost"
   ]
  },
  {
   "cell_type": "code",
   "execution_count": null,
   "metadata": {
    "scrolled": true
   },
   "outputs": [],
   "source": [
    "from xgboost import XGBClassifier\n",
    "\n",
    "xgbmodel = XGBClassifier(\n",
    "    objective='multi:softmax',\n",
    "    num_class=33,\n",
    "    tree_method='gpu_hist',\n",
    "    gpu_id='0',\n",
    "    seed=1224,\n",
    "    \n",
    "    eta =0.1,\n",
    "    n_estimators=4600,\n",
    "    max_depth = 6,\n",
    "    min_child_weight=1,\n",
    "    subsample=0.8,\n",
    "    colsample_bytree=0.8,\n",
    "    gamma=0,\n",
    "    reg_alpha=0,\n",
    "    reg_lambda=1,\n",
    ")\n",
    "eval_set = [(valid_emb_list, valid_label_list), (train_emb_list, train_label_list)]\n",
    "\n",
    "xgbmodel.fit(\n",
    "    train_emb_list,\n",
    "    train_label_list,\n",
    "    eval_metric=['merror'],\n",
    "    eval_set=eval_set,\n",
    "    verbose=True,\n",
    ")"
   ]
  },
  {
   "cell_type": "markdown",
   "metadata": {},
   "source": [
    "# Test"
   ]
  },
  {
   "cell_type": "code",
   "execution_count": null,
   "metadata": {},
   "outputs": [],
   "source": [
    "def test(model):\n",
    "    test_pred_list = model.predict(test_emb_list)\n",
    "    \n",
    "    test_label_list = [class_list[index] for index in test_pred_list]\n",
    "    \n",
    "    data = {\n",
    "        'filename': test_file_list,\n",
    "        'label': test_label_list,\n",
    "    }\n",
    "\n",
    "    df = pd.DataFrame(data)\n",
    "\n",
    "    df.to_csv('test.csv', index=False)"
   ]
  },
  {
   "cell_type": "code",
   "execution_count": null,
   "metadata": {},
   "outputs": [],
   "source": [
    "test(xgbmodel)"
   ]
  }
 ],
 "metadata": {
  "kernelspec": {
   "display_name": "Python 3 (ipykernel)",
   "language": "python",
   "name": "python3"
  },
  "language_info": {
   "codemirror_mode": {
    "name": "ipython",
    "version": 3
   },
   "file_extension": ".py",
   "mimetype": "text/x-python",
   "name": "python",
   "nbconvert_exporter": "python",
   "pygments_lexer": "ipython3",
   "version": "3.9.13"
  },
  "vscode": {
   "interpreter": {
    "hash": "c29844a0a6289b07ec9bd49bfbf82b25be0a16fcb62431206df354e3cda954d5"
   }
  }
 },
 "nbformat": 4,
 "nbformat_minor": 4
}
