{
 "cells": [
  {
   "cell_type": "code",
   "execution_count": null,
   "metadata": {},
   "outputs": [],
   "source": [
    "import os\n",
    "from PIL import Image\n",
    "from tqdm import tqdm\n",
    "import albumentations as A\n",
    "import numpy as np\n",
    "import pandas as pd\n",
    "import matplotlib.pyplot as plt\n",
    "\n",
    "orginal_dir = '/media/jason/A002/AIdea/dataset/private_test' #original image dir\n",
    "resized_dir = '../dataset/private_test' #resize image save dir\n",
    "\n",
    "os.makedirs(resized_dir)\n",
    "file_list = os.listdir(orginal_dir)\n",
    "    \n",
    "for file in tqdm(file_list):\n",
    "    img = Image.open('{}/{}'.format(orginal_dir, file))\n",
    "    img = np.array(img)\n",
    "    img = A.augmentations.geometric.resize.SmallestMaxSize(1280)(image=img)['image']\n",
    "    img = Image.fromarray(img)\n",
    "    img.save('{}/{}'.format(resized_dir, file))"
   ]
  }
 ],
 "metadata": {
  "kernelspec": {
   "display_name": "Python 3 (ipykernel)",
   "language": "python",
   "name": "python3"
  },
  "language_info": {
   "codemirror_mode": {
    "name": "ipython",
    "version": 3
   },
   "file_extension": ".py",
   "mimetype": "text/x-python",
   "name": "python",
   "nbconvert_exporter": "python",
   "pygments_lexer": "ipython3",
   "version": "3.9.13"
  }
 },
 "nbformat": 4,
 "nbformat_minor": 4
}
